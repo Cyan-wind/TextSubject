{
 "cells": [
  {
   "cell_type": "code",
   "execution_count": 13,
   "id": "f44361f2",
   "metadata": {},
   "outputs": [],
   "source": [
    "import requests\n",
    "import re\n",
    "import csv\n",
    "#爬取数据\n",
    "url = \"https://iftp.chinamoney.com.cn/ags/ms/cm-u-bond-md/BondMarketInfoListEN\"\n",
    "headers = {\"User-agent\":\"Mozilla/5.0 (Windows NT 10.0; Win64; x64) AppleWebKit/537.36 (KHTML, like Gecko) Chrome/116.0.0.0 Safari/537.36\"}\n",
    "response = requests.get(url,headers = headers)\n",
    "data = response.text"
   ]
  },
  {
   "cell_type": "code",
   "execution_count": 14,
   "id": "3ffe7cd1",
   "metadata": {},
   "outputs": [
    {
     "data": {
      "text/plain": [
       "'{\"head\":{\"version\":\"2.0\",\"provider\":\"CWAP\",\"req_code\":\"\",\"rep_code\":\"200\",\"rep_message\":\"\",\"ts\":1692890364278,\"producer\":\"\",\"tstext\":\"2023-08-24 23:19:24\"},\"data\":{\"total\":0,\"pageTotal\":0,\"pageNo\":0,\"resultList\":[],\"prepg\":0,\"nextpg\":0},\"records\":[]}'"
      ]
     },
     "execution_count": 14,
     "metadata": {},
     "output_type": "execute_result"
    }
   ],
   "source": [
    "data"
   ]
  },
  {
   "cell_type": "markdown",
   "id": "3aa0be18",
   "metadata": {},
   "source": [
    "### 爬不到。。\n",
    "### 想个办法：本地创建txt文件，复制粘贴"
   ]
  },
  {
   "cell_type": "code",
   "execution_count": 15,
   "id": "ce385e91",
   "metadata": {},
   "outputs": [
    {
     "data": {
      "text/plain": [
       "['{\\n',\n",
       " '    \"head\": {\\n',\n",
       " '        \"version\": \"2.0\",\\n',\n",
       " '        \"provider\": \"CWAP\",\\n',\n",
       " '        \"req_code\": \"\",\\n',\n",
       " '        \"rep_code\": \"200\",\\n',\n",
       " '        \"rep_message\": \"\",\\n',\n",
       " '        \"ts\": 1692884725727,\\n',\n",
       " '        \"producer\": \"\",\\n',\n",
       " '        \"tstext\": \"2023-08-24 21:45:25\"\\n',\n",
       " '    },\\n',\n",
       " '    \"data\": {\\n',\n",
       " '        \"total\": 69,\\n',\n",
       " '        \"pageTotal\": 5,\\n',\n",
       " '        \"pageNo\": 0,\\n',\n",
       " '        \"resultList\": [\\n',\n",
       " '            {\\n',\n",
       " '                \"bondDefinedCode\": \"idbcj39951\",\\n',\n",
       " '                \"bondName\": null,\\n',\n",
       " '                \"bondCode\": \"239951\",\\n',\n",
       " '                \"issueStartDate\": \"2023-08-25\",\\n',\n",
       " '                \"issueEndDate\": \"2023-08-25\",\\n',\n",
       " '                \"bondTypeCode\": \"100001\",\\n',\n",
       " '                \"bondType\": \"Treasury Bond\",\\n',\n",
       " '                \"entyFullName\": \"Ministry of Finance of the People鈥檚 Republic of China\",\\n',\n",
       " '                \"entyDefinedCode\": \"300001\",\\n',\n",
       " '                \"debtRtng\": \"---\",\\n',\n",
       " '                \"isin\": \"---\",\\n',\n",
       " '                \"inptTp\": \"0\"\\n',\n",
       " '            },\\n',\n",
       " '            {\\n',\n",
       " '                \"bondDefinedCode\": \"icjbc30018\",\\n',\n",
       " '                \"bondName\": null,\\n',\n",
       " '                \"bondCode\": \"230018\",\\n',\n",
       " '                \"issueStartDate\": \"2023-08-24\",\\n',\n",
       " '                \"issueEndDate\": \"2023-08-24\",\\n',\n",
       " '                \"bondTypeCode\": \"100001\",\\n',\n",
       " '                \"bondType\": \"Treasury Bond\",\\n',\n",
       " '                \"entyFullName\": \"Ministry of Finance of the People鈥檚 Republic of China\",\\n',\n",
       " '                \"entyDefinedCode\": \"300001\",\\n',\n",
       " '                \"debtRtng\": \"---\",\\n',\n",
       " '                \"isin\": \"CND10006VQZ5\",\\n',\n",
       " '                \"inptTp\": \"0\"\\n',\n",
       " '            },\\n',\n",
       " '            {\\n',\n",
       " '                \"bondDefinedCode\": \"icjbd39950\",\\n',\n",
       " '                \"bondName\": null,\\n',\n",
       " '                \"bondCode\": \"239950\",\\n',\n",
       " '                \"issueStartDate\": \"2023-08-18\",\\n',\n",
       " '                \"issueEndDate\": \"2023-08-18\",\\n',\n",
       " '                \"bondTypeCode\": \"100001\",\\n',\n",
       " '                \"bondType\": \"Treasury Bond\",\\n',\n",
       " '                \"entyFullName\": \"Ministry of Finance of the People鈥檚 Republic of China\",\\n',\n",
       " '                \"entyDefinedCode\": \"300001\",\\n',\n",
       " '                \"debtRtng\": \"---\",\\n',\n",
       " '                \"isin\": \"CND10006VR05\",\\n',\n",
       " '                \"inptTp\": \"0\"\\n',\n",
       " '            },\\n',\n",
       " '            {\\n',\n",
       " '                \"bondDefinedCode\": \"ibdfe30017\",\\n',\n",
       " '                \"bondName\": null,\\n',\n",
       " '                \"bondCode\": \"230017\",\\n',\n",
       " '                \"issueStartDate\": \"2023-08-14\",\\n',\n",
       " '                \"issueEndDate\": \"2023-08-14\",\\n',\n",
       " '                \"bondTypeCode\": \"100001\",\\n',\n",
       " '                \"bondType\": \"Treasury Bond\",\\n',\n",
       " '                \"entyFullName\": \"Ministry of Finance of the People鈥檚 Republic of China\",\\n',\n",
       " '                \"entyDefinedCode\": \"300001\",\\n',\n",
       " '                \"debtRtng\": \"---\",\\n',\n",
       " '                \"isin\": \"CND10006VNH0\",\\n',\n",
       " '                \"inptTp\": \"0\"\\n',\n",
       " '            },\\n',\n",
       " '            {\\n',\n",
       " '                \"bondDefinedCode\": \"ibjge39949\",\\n',\n",
       " '                \"bondName\": null,\\n',\n",
       " '                \"bondCode\": \"239949\",\\n',\n",
       " '                \"issueStartDate\": \"2023-08-11\",\\n',\n",
       " '                \"issueEndDate\": \"2023-08-11\",\\n',\n",
       " '                \"bondTypeCode\": \"100001\",\\n',\n",
       " '                \"bondType\": \"Treasury Bond\",\\n',\n",
       " '                \"entyFullName\": \"Ministry of Finance of the People鈥檚 Republic of China\",\\n',\n",
       " '                \"entyDefinedCode\": \"300001\",\\n',\n",
       " '                \"debtRtng\": \"---\",\\n',\n",
       " '                \"isin\": \"CND10006VPQ6\",\\n',\n",
       " '                \"inptTp\": \"0\"\\n',\n",
       " '            },\\n',\n",
       " '            {\\n',\n",
       " '                \"bondDefinedCode\": \"ibfgg39947\",\\n',\n",
       " '                \"bondName\": null,\\n',\n",
       " '                \"bondCode\": \"239947\",\\n',\n",
       " '                \"issueStartDate\": \"2023-08-09\",\\n',\n",
       " '                \"issueEndDate\": \"2023-08-09\",\\n',\n",
       " '                \"bondTypeCode\": \"100001\",\\n',\n",
       " '                \"bondType\": \"Treasury Bond\",\\n',\n",
       " '                \"entyFullName\": \"Ministry of Finance of the People鈥檚 Republic of China\",\\n',\n",
       " '                \"entyDefinedCode\": \"300001\",\\n',\n",
       " '                \"debtRtng\": \"---\",\\n',\n",
       " '                \"isin\": \"CND10006VNZ2\",\\n',\n",
       " '                \"inptTp\": \"0\"\\n',\n",
       " '            },\\n',\n",
       " '            {\\n',\n",
       " '                \"bondDefinedCode\": \"ibffj39948\",\\n',\n",
       " '                \"bondName\": null,\\n',\n",
       " '                \"bondCode\": \"239948\",\\n',\n",
       " '                \"issueStartDate\": \"2023-08-09\",\\n',\n",
       " '                \"issueEndDate\": \"2023-08-09\",\\n',\n",
       " '                \"bondTypeCode\": \"100001\",\\n',\n",
       " '                \"bondType\": \"Treasury Bond\",\\n',\n",
       " '                \"entyFullName\": \"Ministry of Finance of the People鈥檚 Republic of China\",\\n',\n",
       " '                \"entyDefinedCode\": \"300001\",\\n',\n",
       " '                \"debtRtng\": \"---\",\\n',\n",
       " '                \"isin\": \"CND10006VNY5\",\\n',\n",
       " '                \"inptTp\": \"0\"\\n',\n",
       " '            },\\n',\n",
       " '            {\\n',\n",
       " '                \"bondDefinedCode\": \"ibaif39946\",\\n',\n",
       " '                \"bondName\": null,\\n',\n",
       " '                \"bondCode\": \"239946\",\\n',\n",
       " '                \"issueStartDate\": \"2023-08-04\",\\n',\n",
       " '                \"issueEndDate\": \"2023-08-04\",\\n',\n",
       " '                \"bondTypeCode\": \"100001\",\\n',\n",
       " '                \"bondType\": \"Treasury Bond\",\\n',\n",
       " '                \"entyFullName\": \"Ministry of Finance of the People鈥檚 Republic of China\",\\n',\n",
       " '                \"entyDefinedCode\": \"300001\",\\n',\n",
       " '                \"debtRtng\": \"---\",\\n',\n",
       " '                \"isin\": \"CND10006VC36\",\\n',\n",
       " '                \"inptTp\": \"0\"\\n',\n",
       " '            },\\n',\n",
       " '            {\\n',\n",
       " '                \"bondDefinedCode\": \"iadge39945\",\\n',\n",
       " '                \"bondName\": null,\\n',\n",
       " '                \"bondCode\": \"239945\",\\n',\n",
       " '                \"issueStartDate\": \"2023-08-04\",\\n',\n",
       " '                \"issueEndDate\": \"2023-08-04\",\\n',\n",
       " '                \"bondTypeCode\": \"100001\",\\n',\n",
       " '                \"bondType\": \"Treasury Bond\",\\n',\n",
       " '                \"entyFullName\": \"Ministry of Finance of the People鈥檚 Republic of China\",\\n',\n",
       " '                \"entyDefinedCode\": \"300001\",\\n',\n",
       " '                \"debtRtng\": \"---\",\\n',\n",
       " '                \"isin\": \"CND10006V9L3\",\\n',\n",
       " '                \"inptTp\": \"0\"\\n',\n",
       " '            },\\n',\n",
       " '            {\\n',\n",
       " '                \"bondDefinedCode\": \"iacgg39944\",\\n',\n",
       " '                \"bondName\": null,\\n',\n",
       " '                \"bondCode\": \"239944\",\\n',\n",
       " '                \"issueStartDate\": \"2023-07-28\",\\n',\n",
       " '                \"issueEndDate\": \"2023-07-28\",\\n',\n",
       " '                \"bondTypeCode\": \"100001\",\\n',\n",
       " '                \"bondType\": \"Treasury Bond\",\\n',\n",
       " '                \"entyFullName\": \"Ministry of Finance of the People鈥檚 Republic of China\",\\n',\n",
       " '                \"entyDefinedCode\": \"300001\",\\n',\n",
       " '                \"debtRtng\": \"---\",\\n',\n",
       " '                \"isin\": \"CND10006V0Z2\",\\n',\n",
       " '                \"inptTp\": \"0\"\\n',\n",
       " '            },\\n',\n",
       " '            {\\n',\n",
       " '                \"bondDefinedCode\": \"hihae30016\",\\n',\n",
       " '                \"bondName\": null,\\n',\n",
       " '                \"bondCode\": \"230016\",\\n',\n",
       " '                \"issueStartDate\": \"2023-07-24\",\\n',\n",
       " '                \"issueEndDate\": \"2023-07-24\",\\n',\n",
       " '                \"bondTypeCode\": \"100001\",\\n',\n",
       " '                \"bondType\": \"Treasury Bond\",\\n',\n",
       " '                \"entyFullName\": \"Ministry of Finance of the People鈥檚 Republic of China\",\\n',\n",
       " '                \"entyDefinedCode\": \"300001\",\\n',\n",
       " '                \"debtRtng\": \"---\",\\n',\n",
       " '                \"isin\": \"CND10006S9G8\",\\n',\n",
       " '                \"inptTp\": \"0\"\\n',\n",
       " '            },\\n',\n",
       " '            {\\n',\n",
       " '                \"bondDefinedCode\": \"hjdjc39943\",\\n',\n",
       " '                \"bondName\": null,\\n',\n",
       " '                \"bondCode\": \"239943\",\\n',\n",
       " '                \"issueStartDate\": \"2023-07-21\",\\n',\n",
       " '                \"issueEndDate\": \"2023-07-21\",\\n',\n",
       " '                \"bondTypeCode\": \"100001\",\\n',\n",
       " '                \"bondType\": \"Treasury Bond\",\\n',\n",
       " '                \"entyFullName\": \"Ministry of Finance of the People鈥檚 Republic of China\",\\n',\n",
       " '                \"entyDefinedCode\": \"300001\",\\n',\n",
       " '                \"debtRtng\": \"---\",\\n',\n",
       " '                \"isin\": \"CND10006SSF9\",\\n',\n",
       " '                \"inptTp\": \"0\"\\n',\n",
       " '            },\\n',\n",
       " '            {\\n',\n",
       " '                \"bondDefinedCode\": \"hicha39942\",\\n',\n",
       " '                \"bondName\": null,\\n',\n",
       " '                \"bondCode\": \"239942\",\\n',\n",
       " '                \"issueStartDate\": \"2023-07-14\",\\n',\n",
       " '                \"issueEndDate\": \"2023-07-14\",\\n',\n",
       " '                \"bondTypeCode\": \"100001\",\\n',\n",
       " '                \"bondType\": \"Treasury Bond\",\\n',\n",
       " '                \"entyFullName\": \"Ministry of Finance of the People鈥檚 Republic of China\",\\n',\n",
       " '                \"entyDefinedCode\": \"300001\",\\n',\n",
       " '                \"debtRtng\": \"---\",\\n',\n",
       " '                \"isin\": \"CND10006RXQ8\",\\n',\n",
       " '                \"inptTp\": \"0\"\\n',\n",
       " '            },\\n',\n",
       " '            {\\n',\n",
       " '                \"bondDefinedCode\": \"hhfcg30015\",\\n',\n",
       " '                \"bondName\": null,\\n',\n",
       " '                \"bondCode\": \"230015\",\\n',\n",
       " '                \"issueStartDate\": \"2023-07-14\",\\n',\n",
       " '                \"issueEndDate\": \"2023-07-14\",\\n',\n",
       " '                \"bondTypeCode\": \"100001\",\\n',\n",
       " '                \"bondType\": \"Treasury Bond\",\\n',\n",
       " '                \"entyFullName\": \"Ministry of Finance of the People鈥檚 Republic of China\",\\n',\n",
       " '                \"entyDefinedCode\": \"300001\",\\n',\n",
       " '                \"debtRtng\": \"---\",\\n',\n",
       " '                \"isin\": \"CND10006PJH0\",\\n',\n",
       " '                \"inptTp\": \"0\"\\n',\n",
       " '            },\\n',\n",
       " '            {\\n',\n",
       " '                \"bondDefinedCode\": \"hhfcf39941\",\\n',\n",
       " '                \"bondName\": null,\\n',\n",
       " '                \"bondCode\": \"239941\",\\n',\n",
       " '                \"issueStartDate\": \"2023-07-14\",\\n',\n",
       " '                \"issueEndDate\": \"2023-07-14\",\\n',\n",
       " '                \"bondTypeCode\": \"100001\",\\n',\n",
       " '                \"bondType\": \"Treasury Bond\",\\n',\n",
       " '                \"entyFullName\": \"Ministry of Finance of the People鈥檚 Republic of China\",\\n',\n",
       " '                \"entyDefinedCode\": \"300001\",\\n',\n",
       " '                \"debtRtng\": \"---\",\\n',\n",
       " '                \"isin\": \"CND10006PJG2\",\\n',\n",
       " '                \"inptTp\": \"0\"\\n',\n",
       " '            }\\n',\n",
       " '        ],\\n',\n",
       " '        \"prepg\": 0,\\n',\n",
       " '        \"nextpg\": 1\\n',\n",
       " '    },\\n',\n",
       " '    \"records\": []\\n',\n",
       " '}']"
      ]
     },
     "execution_count": 15,
     "metadata": {},
     "output_type": "execute_result"
    }
   ],
   "source": [
    "file = open('D:/data.txt', 'r')\n",
    "data = file.readlines()\n",
    "file.close()\n",
    "data"
   ]
  },
  {
   "cell_type": "code",
   "execution_count": 5,
   "id": "c4242040",
   "metadata": {},
   "outputs": [
    {
     "data": {
      "text/plain": [
       "['---',\n",
       " 'CND10006VQZ5',\n",
       " 'CND10006VR05',\n",
       " 'CND10006VNH0',\n",
       " 'CND10006VPQ6',\n",
       " 'CND10006VNZ2',\n",
       " 'CND10006VNY5',\n",
       " 'CND10006VC36',\n",
       " 'CND10006V9L3',\n",
       " 'CND10006V0Z2',\n",
       " 'CND10006S9G8',\n",
       " 'CND10006SSF9',\n",
       " 'CND10006RXQ8',\n",
       " 'CND10006PJH0',\n",
       " 'CND10006PJG2']"
      ]
     },
     "execution_count": 5,
     "metadata": {},
     "output_type": "execute_result"
    }
   ],
   "source": [
    "pattern1 = re.compile('\"isin\": \"(.*?)\"',re.S)\n",
    "ISIN = re.findall(pattern1,str(data))\n",
    "ISIN"
   ]
  },
  {
   "cell_type": "code",
   "execution_count": 6,
   "id": "622467f4",
   "metadata": {},
   "outputs": [
    {
     "data": {
      "text/plain": [
       "['239951',\n",
       " '230018',\n",
       " '239950',\n",
       " '230017',\n",
       " '239949',\n",
       " '239947',\n",
       " '239948',\n",
       " '239946',\n",
       " '239945',\n",
       " '239944',\n",
       " '230016',\n",
       " '239943',\n",
       " '239942',\n",
       " '230015',\n",
       " '239941']"
      ]
     },
     "execution_count": 6,
     "metadata": {},
     "output_type": "execute_result"
    }
   ],
   "source": [
    "pattern2 = re.compile('\"bondCode\": \"(.*?)\"',re.S)\n",
    "Bond_Code = re.findall(pattern2,str(data))\n",
    "Bond_Code"
   ]
  },
  {
   "cell_type": "code",
   "execution_count": 7,
   "id": "1d5e2377",
   "metadata": {},
   "outputs": [
    {
     "data": {
      "text/plain": [
       "['Ministry of Finance of the People鈥檚 Republic of China',\n",
       " 'Ministry of Finance of the People鈥檚 Republic of China',\n",
       " 'Ministry of Finance of the People鈥檚 Republic of China',\n",
       " 'Ministry of Finance of the People鈥檚 Republic of China',\n",
       " 'Ministry of Finance of the People鈥檚 Republic of China',\n",
       " 'Ministry of Finance of the People鈥檚 Republic of China',\n",
       " 'Ministry of Finance of the People鈥檚 Republic of China',\n",
       " 'Ministry of Finance of the People鈥檚 Republic of China',\n",
       " 'Ministry of Finance of the People鈥檚 Republic of China',\n",
       " 'Ministry of Finance of the People鈥檚 Republic of China',\n",
       " 'Ministry of Finance of the People鈥檚 Republic of China',\n",
       " 'Ministry of Finance of the People鈥檚 Republic of China',\n",
       " 'Ministry of Finance of the People鈥檚 Republic of China',\n",
       " 'Ministry of Finance of the People鈥檚 Republic of China',\n",
       " 'Ministry of Finance of the People鈥檚 Republic of China']"
      ]
     },
     "execution_count": 7,
     "metadata": {},
     "output_type": "execute_result"
    }
   ],
   "source": [
    "pattern3 = re.compile('\"entyFullName\": \"(.*?)\"',re.S)\n",
    "Issuer = re.findall(pattern3,str(data))\n",
    "Issuer"
   ]
  },
  {
   "cell_type": "code",
   "execution_count": 8,
   "id": "1e5c8551",
   "metadata": {},
   "outputs": [
    {
     "data": {
      "text/plain": [
       "['Treasury Bond',\n",
       " 'Treasury Bond',\n",
       " 'Treasury Bond',\n",
       " 'Treasury Bond',\n",
       " 'Treasury Bond',\n",
       " 'Treasury Bond',\n",
       " 'Treasury Bond',\n",
       " 'Treasury Bond',\n",
       " 'Treasury Bond',\n",
       " 'Treasury Bond',\n",
       " 'Treasury Bond',\n",
       " 'Treasury Bond',\n",
       " 'Treasury Bond',\n",
       " 'Treasury Bond',\n",
       " 'Treasury Bond']"
      ]
     },
     "execution_count": 8,
     "metadata": {},
     "output_type": "execute_result"
    }
   ],
   "source": [
    "pattern4 = re.compile('\"bondType\": \"(.*?)\"',re.S)\n",
    "Bond_Type = re.findall(pattern4,str(data))\n",
    "Bond_Type"
   ]
  },
  {
   "cell_type": "code",
   "execution_count": 9,
   "id": "f175f7f6",
   "metadata": {},
   "outputs": [
    {
     "data": {
      "text/plain": [
       "['2023-08-25',\n",
       " '2023-08-24',\n",
       " '2023-08-18',\n",
       " '2023-08-14',\n",
       " '2023-08-11',\n",
       " '2023-08-09',\n",
       " '2023-08-09',\n",
       " '2023-08-04',\n",
       " '2023-08-04',\n",
       " '2023-07-28',\n",
       " '2023-07-24',\n",
       " '2023-07-21',\n",
       " '2023-07-14',\n",
       " '2023-07-14',\n",
       " '2023-07-14']"
      ]
     },
     "execution_count": 9,
     "metadata": {},
     "output_type": "execute_result"
    }
   ],
   "source": [
    "pattern5 = re.compile('\"issueStartDate\": \"(.*?)\"',re.S)\n",
    "Issue_Date = re.findall(pattern5,str(data))\n",
    "Issue_Date"
   ]
  },
  {
   "cell_type": "code",
   "execution_count": 10,
   "id": "d69006af",
   "metadata": {},
   "outputs": [
    {
     "data": {
      "text/plain": [
       "['---',\n",
       " '---',\n",
       " '---',\n",
       " '---',\n",
       " '---',\n",
       " '---',\n",
       " '---',\n",
       " '---',\n",
       " '---',\n",
       " '---',\n",
       " '---',\n",
       " '---',\n",
       " '---',\n",
       " '---',\n",
       " '---']"
      ]
     },
     "execution_count": 10,
     "metadata": {},
     "output_type": "execute_result"
    }
   ],
   "source": [
    "pattern6 = re.compile('\"debtRtng\": \"(.*?)\"',re.S)\n",
    "Latest_Rating = re.findall(pattern6,str(data))\n",
    "Latest_Rating"
   ]
  },
  {
   "cell_type": "code",
   "execution_count": 12,
   "id": "48f4e803",
   "metadata": {},
   "outputs": [],
   "source": [
    "transposed_lists = zip(ISIN, Bond_Code, Issuer,Bond_Type,Issue_Date,Latest_Rating)#做一个转制\n",
    "with open('D:/data.csv', 'w', newline='') as f:\n",
    "    writer = csv.writer(f)\n",
    "    writer.writerow(['ISIN', 'Bond_Code', 'Issuer','Bond_Type','Issue_Date','Latest_Rating'])\n",
    "    writer.writerows(transposed_lists)\n",
    "file.close()"
   ]
  }
 ],
 "metadata": {
  "kernelspec": {
   "display_name": "Python 3 (ipykernel)",
   "language": "python",
   "name": "python3"
  },
  "language_info": {
   "codemirror_mode": {
    "name": "ipython",
    "version": 3
   },
   "file_extension": ".py",
   "mimetype": "text/x-python",
   "name": "python",
   "nbconvert_exporter": "python",
   "pygments_lexer": "ipython3",
   "version": "3.9.13"
  }
 },
 "nbformat": 4,
 "nbformat_minor": 5
}
